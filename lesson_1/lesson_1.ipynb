{
 "cells": [
  {
   "cell_type": "code",
   "execution_count": 2,
   "metadata": {},
   "outputs": [],
   "source": [
    "BEIJING,CHANGCHUN,URUMUQI,WUHAN,GUANGZHOU,SHENZHEN,BANGKOK,SHANGHAI,NEWYORK =\"\"\"\n",
    "BEIJING CHANGCHUN URUMUQI WUHAN GUANGZHOU SHENZHEN BANGKOK SHANGHAI NEWYORK \n",
    "\"\"\".split()\n"
   ]
  },
  {
   "cell_type": "code",
   "execution_count": 8,
   "metadata": {
    "scrolled": true
   },
   "outputs": [
    {
     "name": "stdout",
     "output_type": "stream",
     "text": [
      "BEIJING\n"
     ]
    }
   ],
   "source": [
    "print(BEIJING)"
   ]
  },
  {
   "cell_type": "code",
   "execution_count": 3,
   "metadata": {},
   "outputs": [],
   "source": [
    "connection = {\n",
    "    CHANGCHUN: [BEIJING],\n",
    "    URUMUQI:   [BEIJING],\n",
    "    BEIJING:   [URUMUQI,CHANGCHUN,WUHAN,SHENZHEN, NEWYORK],\n",
    "    NEWYORK:   [BEIJING,SHANGHAI],\n",
    "    SHANGHAI:  [NEWYORK,WUHAN],\n",
    "    WUHAN:     [SHANGHAI,BEIJING,GUANGZHOU],\n",
    "    GUANGZHOU: [WUHAN,BANGKOK],\n",
    "    SHENZHEN:  [WUHAN,BANGKOK],\n",
    "    BANGKOK:   [SHENZHEN,GUANGZHOU]\n",
    "}\n"
   ]
  },
  {
   "cell_type": "code",
   "execution_count": 4,
   "metadata": {},
   "outputs": [],
   "source": [
    "import networkx as nx"
   ]
  },
  {
   "cell_type": "code",
   "execution_count": 5,
   "metadata": {},
   "outputs": [],
   "source": [
    "%matplotlib inline"
   ]
  },
  {
   "cell_type": "code",
   "execution_count": 6,
   "metadata": {},
   "outputs": [],
   "source": [
    "graph = connection"
   ]
  },
  {
   "cell_type": "code",
   "execution_count": 7,
   "metadata": {},
   "outputs": [],
   "source": [
    "g = nx.Graph(graph)"
   ]
  },
  {
   "cell_type": "code",
   "execution_count": 8,
   "metadata": {},
   "outputs": [
    {
     "name": "stderr",
     "output_type": "stream",
     "text": [
      "d:\\ProgramData\\Anaconda3\\lib\\site-packages\\networkx\\drawing\\nx_pylab.py:611: MatplotlibDeprecationWarning: isinstance(..., numbers.Number)\n",
      "  if cb.is_numlike(alpha):\n"
     ]
    },
    {
     "data": {
      "image/png": "[encoded data removed]",
      "text/plain": [
       "<Figure size 432x288 with 1 Axes>"
      ]
     },
     "metadata": {},
     "output_type": "display_data"
    }
   ],
   "source": [
    "nx.draw(g)"
   ]
  },
  {
   "cell_type": "code",
   "execution_count": 9,
   "metadata": {},
   "outputs": [],
   "source": [
    "def nagivator_bfs(start,destination,connection_graph):\n",
    "    pathes = [start]\n",
    "    seen = set()\n",
    "    \n",
    "    while(pathes):\n",
    "        \n",
    "        frontier = pathes.pop(0)\n",
    "        if frontier in seen: continue\n",
    "        print('I am standing at:{}'.format(frontier))\n",
    "        \n",
    "        successor = connection_graph[frontier]\n",
    "        print('\\t---- I am looking forward:{}'.format(successor))\n",
    "        pathes += successor\n",
    "        seen.add(frontier)"
   ]
  },
  {
   "cell_type": "code",
   "execution_count": 10,
   "metadata": {},
   "outputs": [
    {
     "name": "stdout",
     "output_type": "stream",
     "text": [
      "I am standing at:CHANGCHUN\n",
      "\t---- I am looking forward:['BEIJING']\n",
      "I am standing at:BEIJING\n",
      "\t---- I am looking forward:['URUMUQI', 'CHANGCHUN', 'WUHAN', 'SHENZHEN', 'NEWYORK']\n",
      "I am standing at:URUMUQI\n",
      "\t---- I am looking forward:['BEIJING']\n",
      "I am standing at:WUHAN\n",
      "\t---- I am looking forward:['SHANGHAI', 'BEIJING', 'GUANGZHOU']\n",
      "I am standing at:SHENZHEN\n",
      "\t---- I am looking forward:['WUHAN', 'BANGKOK']\n",
      "I am standing at:NEWYORK\n",
      "\t---- I am looking forward:['BEIJING', 'SHANGHAI']\n",
      "I am standing at:SHANGHAI\n",
      "\t---- I am looking forward:['NEWYORK', 'WUHAN']\n",
      "I am standing at:GUANGZHOU\n",
      "\t---- I am looking forward:['WUHAN', 'BANGKOK']\n",
      "I am standing at:BANGKOK\n",
      "\t---- I am looking forward:['SHENZHEN', 'GUANGZHOU']\n"
     ]
    }
   ],
   "source": [
    "nagivator_bfs(CHANGCHUN,BEIJING,connection)"
   ]
  },
  {
   "cell_type": "code",
   "execution_count": 11,
   "metadata": {},
   "outputs": [],
   "source": [
    "def nagivator_dfs(start,destination,connection_graph):\n",
    "    pathes = [start]\n",
    "    seen = set()\n",
    "    \n",
    "    while pathes:\n",
    "        frontier = pathes.pop(0)\n",
    "        if frontier in seen:continue\n",
    "        print('I am standing at {}'.format(frontier))\n",
    "        successors = connection_graph[frontier]\n",
    "        print('\\t---- I am looking forward {}'.format(successors))\n",
    "        \n",
    "        pathes = successors + pathes\n",
    "        seen.add(frontier)"
   ]
  },
  {
   "cell_type": "code",
   "execution_count": 12,
   "metadata": {},
   "outputs": [
    {
     "name": "stdout",
     "output_type": "stream",
     "text": [
      "I am standing at CHANGCHUN\n",
      "\t---- I am looking forward ['BEIJING']\n",
      "I am standing at BEIJING\n",
      "\t---- I am looking forward ['URUMUQI', 'CHANGCHUN', 'WUHAN', 'SHENZHEN', 'NEWYORK']\n",
      "I am standing at URUMUQI\n",
      "\t---- I am looking forward ['BEIJING']\n",
      "I am standing at WUHAN\n",
      "\t---- I am looking forward ['SHANGHAI', 'BEIJING', 'GUANGZHOU']\n",
      "I am standing at SHANGHAI\n",
      "\t---- I am looking forward ['NEWYORK', 'WUHAN']\n",
      "I am standing at NEWYORK\n",
      "\t---- I am looking forward ['BEIJING', 'SHANGHAI']\n",
      "I am standing at GUANGZHOU\n",
      "\t---- I am looking forward ['WUHAN', 'BANGKOK']\n",
      "I am standing at BANGKOK\n",
      "\t---- I am looking forward ['SHENZHEN', 'GUANGZHOU']\n",
      "I am standing at SHENZHEN\n",
      "\t---- I am looking forward ['WUHAN', 'BANGKOK']\n"
     ]
    }
   ],
   "source": [
    "nagivator_dfs(CHANGCHUN,BEIJING,connection)"
   ]
  },
  {
   "cell_type": "code",
   "execution_count": 47,
   "metadata": {},
   "outputs": [],
   "source": [
    "def nagivator(start,destination,connection_graph):\n",
    "    pathes = [[start]]    \n",
    "    seen =set()\n",
    "    \n",
    "    while pathes:\n",
    "        path = pathes.pop(0)\n",
    "        frontier = path[-1]\n",
    "        \n",
    "        if frontier in seen: continue\n",
    "        print('I am standing at:{}'.format(frontier))\n",
    "        \n",
    "        successors = connection_graph[frontier]\n",
    "        \n",
    "        for s in successors:\n",
    "            print('\\t ----I am look forward:{}'.format(s))\n",
    "            if s == destination:\n",
    "                path.append(s)\n",
    "                return path\n",
    "            else:\n",
    "                pathes.append(path + [s])\n",
    "        \n",
    "        pathes = sorted(pathes,key=len)\n",
    "        seen.add(frontier)\n",
    "        #how?"
   ]
  },
  {
   "cell_type": "code",
   "execution_count": 48,
   "metadata": {},
   "outputs": [
    {
     "name": "stdout",
     "output_type": "stream",
     "text": [
      "I am standing at:CHANGCHUN\n",
      "\t ----I am look forward:BEIJING\n",
      "I am standing at:BEIJING\n",
      "\t ----I am look forward:URUMUQI\n",
      "\t ----I am look forward:CHANGCHUN\n",
      "\t ----I am look forward:WUHAN\n",
      "\t ----I am look forward:SHENZHEN\n",
      "\t ----I am look forward:NEWYORK\n",
      "I am standing at:URUMUQI\n",
      "\t ----I am look forward:BEIJING\n",
      "I am standing at:WUHAN\n",
      "\t ----I am look forward:SHANGHAI\n",
      "\t ----I am look forward:BEIJING\n",
      "\t ----I am look forward:GUANGZHOU\n",
      "I am standing at:SHENZHEN\n",
      "\t ----I am look forward:WUHAN\n",
      "\t ----I am look forward:BANGKOK\n"
     ]
    },
    {
     "data": {
      "text/plain": [
       "['CHANGCHUN', 'BEIJING', 'SHENZHEN', 'BANGKOK']"
      ]
     },
     "execution_count": 48,
     "metadata": {},
     "output_type": "execute_result"
    }
   ],
   "source": [
    "nagivator(CHANGCHUN,BANGKOK,connection)"
   ]
  },
  {
   "cell_type": "code",
   "execution_count": 24,
   "metadata": {},
   "outputs": [],
   "source": [
    "#stop at  02:48:20"
   ]
  },
  {
   "cell_type": "code",
   "execution_count": 13,
   "metadata": {},
   "outputs": [],
   "source": [
    "connection_2 = {\n",
    "    0: [1, 5], \n",
    "    1: [0, 2], \n",
    "    2: [1, 3], \n",
    "    3: [2, 4], \n",
    "    4: [3],\n",
    "    5: [0, 6], \n",
    "    6: [5, 7],\n",
    "    7: [6]\n",
    "}"
   ]
  },
  {
   "cell_type": "code",
   "execution_count": 14,
   "metadata": {},
   "outputs": [
    {
     "name": "stderr",
     "output_type": "stream",
     "text": [
      "d:\\ProgramData\\Anaconda3\\lib\\site-packages\\networkx\\drawing\\nx_pylab.py:611: MatplotlibDeprecationWarning: isinstance(..., numbers.Number)\n",
      "  if cb.is_numlike(alpha):\n"
     ]
    },
    {
     "data": {
      "image/png": "[encoded data removed]",
      "text/plain": [
       "<Figure size 432x288 with 1 Axes>"
      ]
     },
     "metadata": {},
     "output_type": "display_data"
    }
   ],
   "source": [
    "nx.draw(nx.Graph(connection_2))"
   ]
  },
  {
   "cell_type": "code",
   "execution_count": 15,
   "metadata": {},
   "outputs": [
    {
     "name": "stdout",
     "output_type": "stream",
     "text": [
      "I am standing at:0\n",
      "\t---- I am looking forward:[1, 5]\n",
      "I am standing at:1\n",
      "\t---- I am looking forward:[0, 2]\n",
      "I am standing at:5\n",
      "\t---- I am looking forward:[0, 6]\n",
      "I am standing at:2\n",
      "\t---- I am looking forward:[1, 3]\n",
      "I am standing at:6\n",
      "\t---- I am looking forward:[5, 7]\n",
      "I am standing at:3\n",
      "\t---- I am looking forward:[2, 4]\n",
      "I am standing at:7\n",
      "\t---- I am looking forward:[6]\n",
      "I am standing at:4\n",
      "\t---- I am looking forward:[3]\n"
     ]
    }
   ],
   "source": [
    "nagivator_bfs(0,7,connection_2)"
   ]
  },
  {
   "cell_type": "code",
   "execution_count": 16,
   "metadata": {},
   "outputs": [
    {
     "name": "stdout",
     "output_type": "stream",
     "text": [
      "I am standing at 0\n",
      "\t---- I am looking forward [1, 5]\n",
      "I am standing at 1\n",
      "\t---- I am looking forward [0, 2]\n",
      "I am standing at 2\n",
      "\t---- I am looking forward [1, 3]\n",
      "I am standing at 3\n",
      "\t---- I am looking forward [2, 4]\n",
      "I am standing at 4\n",
      "\t---- I am looking forward [3]\n",
      "I am standing at 5\n",
      "\t---- I am looking forward [0, 6]\n",
      "I am standing at 6\n",
      "\t---- I am looking forward [5, 7]\n",
      "I am standing at 7\n",
      "\t---- I am looking forward [6]\n"
     ]
    }
   ],
   "source": [
    "nagivator_dfs(0,7,connection_2)"
   ]
  },
  {
   "cell_type": "code",
   "execution_count": 27,
   "metadata": {},
   "outputs": [
    {
     "name": "stdout",
     "output_type": "stream",
     "text": [
      "Help on method_descriptor:\n",
      "\n",
      "join(self, iterable, /)\n",
      "    Concatenate any number of strings.\n",
      "    \n",
      "    The string whose method is called is inserted in between each given string.\n",
      "    The result is returned as a new string.\n",
      "    \n",
      "    Example: '.'.join(['ab', 'pq', 'rs']) -> 'ab.pq.rs'\n",
      "\n"
     ]
    }
   ],
   "source": [
    "help(str.join)"
   ]
  },
  {
   "cell_type": "code",
   "execution_count": 23,
   "metadata": {},
   "outputs": [],
   "source": [
    "def draw_route(routes):\n",
    "    print('🛫->'.join(routes))\n",
    "#???"
   ]
  },
  {
   "cell_type": "code",
   "execution_count": 42,
   "metadata": {},
   "outputs": [
    {
     "name": "stdout",
     "output_type": "stream",
     "text": [
      "I am standing at:CHANGCHUN\n",
      "\t ----I am look forward:BEIJING\n",
      "I am standing at:BEIJING\n",
      "\t ----I am look forward:URUMUQI\n",
      "\t ----I am look forward:CHANGCHUN\n",
      "\t ----I am look forward:WUHAN\n",
      "\t ----I am look forward:SHENZHEN\n",
      "\t ----I am look forward:NEWYORK\n",
      "I am standing at:URUMUQI\n",
      "\t ----I am look forward:BEIJING\n",
      "I am standing at:WUHAN\n",
      "\t ----I am look forward:SHANGHAI\n",
      "\t ----I am look forward:BEIJING\n",
      "\t ----I am look forward:GUANGZHOU\n",
      "I am standing at:SHENZHEN\n",
      "\t ----I am look forward:WUHAN\n",
      "\t ----I am look forward:BANGKOK\n",
      "['CHANGCHUN', 'BEIJING', 'SHENZHEN', 'BANGKOK']\n",
      "CHANGCHUN🛫->BEIJING🛫->SHENZHEN🛫->BANGKOK\n"
     ]
    }
   ],
   "source": [
    "ret = nagivator(CHANGCHUN,BANGKOK,connection)\n",
    "print(ret)\n",
    "draw_route(ret)"
   ]
  },
  {
   "cell_type": "code",
   "execution_count": 3,
   "metadata": {},
   "outputs": [],
   "source": [
    "\n",
    "decimal_grammar = \"\"\"\n",
    "expression = operator op operator\n",
    "operator = num op num\n",
    "num = 0 | 1 | 2 | 3 | 4 | 5 | 6 | 7 | 8 | 9 | num num\n",
    "op = + | - | * | /\n",
    "\"\"\""
   ]
  },
  {
   "cell_type": "code",
   "execution_count": 4,
   "metadata": {},
   "outputs": [],
   "source": [
    "grammar = \"\"\"\n",
    "stmt = if block else block\n",
    "block = cmp; assigment\n",
    "assgiment = XXX\n",
    "XXX\n",
    "\"\"\""
   ]
  },
  {
   "cell_type": "code",
   "execution_count": 5,
   "metadata": {},
   "outputs": [],
   "source": [
    "grammar = \"\"\"\n",
    "sentence => noun_phrase verb_phrase \n",
    "noun_phrase => Article Adj* noun\n",
    "Adj* => null | Adj Adj*\n",
    "verb_phrase => verb noun_phrase\n",
    "Article =>  一个 | 这个\n",
    "noun =>   女人 |  篮球 | 桌子 | 小猫\n",
    "verb => 看着   |  坐在 |  听着 | 看见\n",
    "Adj =>   蓝色的 |  好看的 | 小小的\n",
    "\"\"\""
   ]
  },
  {
   "cell_type": "code",
   "execution_count": 6,
   "metadata": {},
   "outputs": [],
   "source": [
    "import random"
   ]
  },
  {
   "cell_type": "code",
   "execution_count": 7,
   "metadata": {},
   "outputs": [],
   "source": []
  },
  {
   "cell_type": "code",
   "execution_count": 8,
   "metadata": {},
   "outputs": [],
   "source": [
    "def pare_grammar(grammar_str,sep='=>'):\n",
    "    grammar = {}\n",
    "    for line in grammar_str.split('\\n'):\n",
    "        line = line.strip()\n",
    "        if not line:\n",
    "            continue\n",
    "        target,rules = line.split(sep)\n",
    "        \n",
    "        grammar[target.strip()] = [r.split() for r in rules.split('|')]\n",
    "    \n",
    "    return grammar\n",
    "    "
   ]
  },
  {
   "cell_type": "code",
   "execution_count": 9,
   "metadata": {},
   "outputs": [],
   "source": [
    "g = pare_grammar(grammar)"
   ]
  },
  {
   "cell_type": "code",
   "execution_count": 12,
   "metadata": {},
   "outputs": [
    {
     "data": {
      "text/plain": [
       "{'sentence': [['noun_phrase', 'verb_phrase']],\n",
       " 'noun_phrase': [['Article', 'Adj*', 'noun']],\n",
       " 'Adj*': [['null'], ['Adj', 'Adj*']],\n",
       " 'verb_phrase': [['verb', 'noun_phrase']],\n",
       " 'Article': [['一个'], ['这个']],\n",
       " 'noun': [['女人'], ['篮球'], ['桌子'], ['小猫']],\n",
       " 'verb': [['看着'], ['坐在'], ['听着'], ['看见']],\n",
       " 'Adj': [['蓝色的'], ['好看的'], ['小小的']]}"
      ]
     },
     "execution_count": 12,
     "metadata": {},
     "output_type": "execute_result"
    }
   ],
   "source": [
    "g"
   ]
  },
  {
   "cell_type": "code",
   "execution_count": 13,
   "metadata": {},
   "outputs": [],
   "source": [
    "def gene(grammar_parsed,target='sentence'):\n",
    "    if target not in grammar_parsed:\n",
    "        return target\n",
    "    rule = random.choice(grammar_parsed[target])\n",
    "    return ''.join(gene(grammar_parsed,target = r) for r in rule if  r !='null'  )"
   ]
  },
  {
   "cell_type": "code",
   "execution_count": 17,
   "metadata": {},
   "outputs": [
    {
     "data": {
      "text/plain": [
       "'一个小小的女人看见一个小小的小小的蓝色的篮球'"
      ]
     },
     "execution_count": 17,
     "metadata": {},
     "output_type": "execute_result"
    }
   ],
   "source": [
    "gene(g)"
   ]
  },
  {
   "cell_type": "code",
   "execution_count": 18,
   "metadata": {},
   "outputs": [
    {
     "name": "stdout",
     "output_type": "stream",
     "text": [
      "89/4-0-6\n",
      "1-8*7*8\n",
      "0*4*5-0\n",
      "0*2/2+4\n",
      "5-1-6-2\n",
      "1*6-5-0\n",
      "7/6/4+8\n",
      "7/6*6*5\n",
      "8*4*1-7\n",
      "0/96+1-7\n",
      "6-8+6*9\n",
      "4+6+9*5\n",
      "9*4*5/3\n",
      "3*53+7*12\n",
      "1/8/1-1\n",
      "4*5-2*8\n",
      "7-3+0+6\n",
      "6/7/5/2\n",
      "4+0*6*2\n",
      "8/8-5-8\n",
      "4*1+4-6\n",
      "3+7*4/1\n",
      "7+6/5/2\n",
      "7+949+2/7\n",
      "8/3+5*48\n",
      "4-72+70-4\n",
      "1-5/9-26\n",
      "6*5*7+9\n",
      "5-8*9*3\n",
      "9+6-8/0\n"
     ]
    }
   ],
   "source": [
    "for x in range(30):\n",
    "    print(gene(pare_grammar(decimal_grammar,sep='='),target = 'expression'))"
   ]
  },
  {
   "cell_type": "code",
   "execution_count": null,
   "metadata": {},
   "outputs": [],
   "source": []
  }
 ],
 "metadata": {
  "kernelspec": {
   "display_name": "Python 3",
   "language": "python",
   "name": "python3"
  },
  "language_info": {
   "codemirror_mode": {
    "name": "ipython",
    "version": 3
   },
   "file_extension": ".py",
   "mimetype": "text/x-python",
   "name": "python",
   "nbconvert_exporter": "python",
   "pygments_lexer": "ipython3",
   "version": "3.7.1"
  }
 },
 "nbformat": 4,
 "nbformat_minor": 2
}
